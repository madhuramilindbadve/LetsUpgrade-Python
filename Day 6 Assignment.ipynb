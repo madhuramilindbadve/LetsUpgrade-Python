{
 "cells": [
  {
   "cell_type": "code",
   "execution_count": null,
   "metadata": {},
   "outputs": [],
   "source": [
    "#Day 6 Assignment answer"
   ]
  },
  {
   "cell_type": "code",
   "execution_count": null,
   "metadata": {},
   "outputs": [],
   "source": [
    "# Q1 answer"
   ]
  },
  {
   "cell_type": "code",
   "execution_count": 56,
   "metadata": {},
   "outputs": [
    {
     "name": "stdout",
     "output_type": "stream",
     "text": [
      "Enter current amount=\n",
      "1000\n",
      "Enter deposited amount=\n",
      "200\n",
      "Enter withdraw amount=\n",
      "400\n",
      "Avaliable balance= 800\n"
     ]
    }
   ],
   "source": [
    "print(\"Enter current amount=\")\n",
    "my_account = BankAccount(int(input()))\n",
    "print(\"Enter deposited amount=\")\n",
    "my_account.deposit(int(input()))\n",
    "print(\"Enter withdraw amount=\")\n",
    "my_account.withdraw(int(input()))\n",
    "class BankAccount(object):\n",
    "    def __init__(self, initial_balance=0):\n",
    "        self.balance = initial_balance\n",
    "    def deposit(self, amount):\n",
    "        self.balance += amount\n",
    "    def withdraw(self, amount):\n",
    "        self.balance -= amount\n",
    "    def overdrawn(self):\n",
    "        return self.balance < 0\n",
    "\n",
    "print (\"Avaliable balance=\",my_account.balance)"
   ]
  },
  {
   "cell_type": "code",
   "execution_count": null,
   "metadata": {},
   "outputs": [],
   "source": [
    "# Q2 answer"
   ]
  },
  {
   "cell_type": "code",
   "execution_count": 58,
   "metadata": {},
   "outputs": [
    {
     "name": "stdout",
     "output_type": "stream",
     "text": [
      "Please Enter the Radius of a Cone: 5\n",
      "Please Enter the Height of a Cone: 12\n",
      " The Volume of a Cone = 314.16\n",
      " The Surface Area of a Cone = 282.74 \n"
     ]
    }
   ],
   "source": [
    "import math\n",
    "\n",
    "radius = float(input('Please Enter the Radius of a Cone: '))\n",
    "height = float(input('Please Enter the Height of a Cone: '))\n",
    "\n",
    "# Calculate Length of a Slide (Slant)\n",
    "l = math.sqrt(radius * radius + height * height)\n",
    "\n",
    "# Calculate the Volume\n",
    "Volume = math.pi * radius * radius * (height/3)\n",
    "\n",
    "\n",
    "# Calculate the Surface Area\n",
    "SA = math.pi * radius * (radius + l)\n",
    "\n",
    "\n",
    "print(\" The Volume of a Cone = %.2f\" %Volume);\n",
    "print(\" The Surface Area of a Cone = %.2f \" %SA)"
   ]
  }
 ],
 "metadata": {
  "celltoolbar": "Raw Cell Format",
  "kernelspec": {
   "display_name": "Python 3",
   "language": "python",
   "name": "python3"
  }
 },
 "nbformat": 4,
 "nbformat_minor": 4
}
