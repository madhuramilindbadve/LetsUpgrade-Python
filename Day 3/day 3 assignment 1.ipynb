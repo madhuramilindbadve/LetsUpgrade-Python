{
 "cells": [
  {
   "cell_type": "code",
   "execution_count": 4,
   "metadata": {},
   "outputs": [
    {
     "name": "stdout",
     "output_type": "stream",
     "text": [
      "Enter the altitude = 1000\n",
      "safe to land\n"
     ]
    }
   ],
   "source": [
    "alt = input(\"Enter the altitude = \")\n",
    "alt = int(alt)\n",
    "\n",
    "if alt<=1000:\n",
    "    print(\"safe to land\")\n",
    "elif alt<=5000 and alt>=1000:\n",
    "    print(\"come down to 1000 ft\")\n",
    "else:\n",
    "    print(\"turn around\")"
   ]
  },
  {
   "cell_type": "code",
   "execution_count": 5,
   "metadata": {},
   "outputs": [
    {
     "name": "stdout",
     "output_type": "stream",
     "text": [
      "Enter the altitude = 3500\n",
      "come down to 1000 ft\n"
     ]
    }
   ],
   "source": [
    "alt = input(\"Enter the altitude = \")\n",
    "alt = int(alt)\n",
    "\n",
    "if alt<=1000:\n",
    "    print(\"safe to land\")\n",
    "elif alt<=5000 and alt>=1000:\n",
    "    print(\"come down to 1000 ft\")\n",
    "else:\n",
    "    print(\"turn around\")"
   ]
  },
  {
   "cell_type": "code",
   "execution_count": 6,
   "metadata": {},
   "outputs": [
    {
     "name": "stdout",
     "output_type": "stream",
     "text": [
      "Enter the altitude = 6500\n",
      "turn around\n"
     ]
    }
   ],
   "source": [
    "alt = input(\"Enter the altitude = \")\n",
    "alt = int(alt)\n",
    "\n",
    "if alt<=1000:\n",
    "    print(\"safe to land\")\n",
    "elif alt<=5000 and alt>=1000:\n",
    "    print(\"come down to 1000 ft\")\n",
    "else:\n",
    "    print(\"turn around\")"
   ]
  },
  {
   "cell_type": "code",
   "execution_count": null,
   "metadata": {},
   "outputs": [],
   "source": []
  }
 ],
 "metadata": {
  "kernelspec": {
   "display_name": "Python 3",
   "language": "python",
   "name": "python3"
  },
  "language_info": {
   "codemirror_mode": {
    "name": "ipython",
    "version": 3
   },
   "file_extension": ".py",
   "mimetype": "text/x-python",
   "name": "python",
   "nbconvert_exporter": "python",
   "pygments_lexer": "ipython3",
   "version": "3.8.3"
  }
 },
 "nbformat": 4,
 "nbformat_minor": 4
}
